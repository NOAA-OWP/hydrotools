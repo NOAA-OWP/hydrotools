{
 "cells": [
  {
   "cell_type": "markdown",
   "id": "a75e4105",
   "metadata": {},
   "source": [
    "# Little Hope Creek :: Peak Flow Analysis\n",
    "\n",
    "This workflow demonstrates an application of event detection to generate a distribution of peak discharges from [Little Hope Creek](https://waterdata.usgs.gov/nc/nwis/inventory/?site_no=02146470&agency_cd=USGS) in North Carolina.\n",
    "\n",
    "In this notebook, one year of streamflow data for [Little Hope\n",
    "Creek](https://waterdata.usgs.gov/nc/nwis/inventory/?site_no=02146470&agency_cd=USGS)\n",
    "is retrieved from the USGS instantaneous value API and cached it in a sqlite3\n",
    "database. Next, the retrieved observation data is cleaned and resampled then an\n",
    "event detection algorithm is applied to the timeseries. This workflow applies\n",
    "event detection using time series decomposition as found in the\n",
    "[Hydrotools](https://github.com/NOAA-OWP/hydrotools) package. Subsequently, the\n",
    "peak discharge for each event is paired. Lastly, two figures: a histogram of\n",
    "peak discharges and a streamflow hydrograph depicting the start times of all\n",
    "events are created. Below, we step through each part of the functionally\n",
    "equivalent `little_hope.py` script and explain the process.\n",
    "\n",
    "\n",
    "## Preparing the environment\n",
    "\n",
    "This example can be run in one of three ways:\n",
    "\n",
    "1. In a [Google Colab Notebook](https://colab.research.google.com/github/NOAA-OWP/hydrotools/blob/main/examples/little_hope/little_hope.ipynb.) (easiest)\n",
    "\n",
    "2. On your local machine:\n",
    "  0. The `Makefile` in the `examples/little_hope`(https://github.com/NOAA-OWP/hydrotools/blob/main/examples/little_hope/) directory will build the python environment and run the `little_hope.py` script or start a local jupyter notebook server. This notebook and the script are functionally equivalent. To and run, clone or [download a zipped version of the repo](https://github.com/NOAA-OWP/hydrotools/archive/refs/heads/main.zip). Navigate to `examples/little_hope` on your machine and run one of the `make` commands specified below.\n",
    "  1. Running in a local Jupyter notebook\n",
    "    - Run `make events`\n",
    "   \n",
    "  2. Running the standalone `little_hope.py` script.\n",
    "    - Run `make run`\n",
    "  \n"
   ]
  },
  {
   "cell_type": "markdown",
   "id": "781b6420",
   "metadata": {},
   "source": [
    "## 0. Install dependencies\n",
    "\n"
   ]
  },
  {
   "cell_type": "code",
   "execution_count": null,
   "id": "8bc1aa74",
   "metadata": {},
   "outputs": [],
   "source": [
    "!pip install hydrotools.nwis_client hydrotools.events matplotlib"
   ]
  },
  {
   "cell_type": "markdown",
   "id": "8c152144",
   "metadata": {},
   "source": [
    "## 1. Import dependencies\n",
    "Import the `nwis_client` tool to retrieve USGS streamflow measurements, `event_detection` to look for hydrological events in a time series of streamflow measurements, and `matplotlib` to plot the results."
   ]
  },
  {
   "cell_type": "code",
   "execution_count": 1,
   "id": "37f55c56",
   "metadata": {},
   "outputs": [],
   "source": [
    "# Import tools to retrieve data and detect events\n",
    "from hydrotools.nwis_client.iv import IVDataService\n",
    "from hydrotools.events.event_detection import decomposition as ev\n",
    "import matplotlib.pyplot as plt\n",
    "%matplotlib inline"
   ]
  },
  {
   "cell_type": "markdown",
   "id": "72b87185",
   "metadata": {},
   "source": [
    "## 2. Retrieve data\n",
    "Use the `nwis_client` tool to retrieve one year of streamflow measurements from Little Hope Creek."
   ]
  },
  {
   "cell_type": "code",
   "execution_count": 2,
   "id": "74a18bf9",
   "metadata": {},
   "outputs": [
    {
     "data": {
      "text/html": [
       "<div>\n",
       "<style scoped>\n",
       "    .dataframe tbody tr th:only-of-type {\n",
       "        vertical-align: middle;\n",
       "    }\n",
       "\n",
       "    .dataframe tbody tr th {\n",
       "        vertical-align: top;\n",
       "    }\n",
       "\n",
       "    .dataframe thead th {\n",
       "        text-align: right;\n",
       "    }\n",
       "</style>\n",
       "<table border=\"1\" class=\"dataframe\">\n",
       "  <thead>\n",
       "    <tr style=\"text-align: right;\">\n",
       "      <th></th>\n",
       "      <th>value_date</th>\n",
       "      <th>variable_name</th>\n",
       "      <th>usgs_site_code</th>\n",
       "      <th>measurement_unit</th>\n",
       "      <th>value</th>\n",
       "      <th>qualifiers</th>\n",
       "      <th>series</th>\n",
       "    </tr>\n",
       "  </thead>\n",
       "  <tbody>\n",
       "    <tr>\n",
       "      <th>0</th>\n",
       "      <td>2019-09-30 23:00:00</td>\n",
       "      <td>streamflow</td>\n",
       "      <td>02146470</td>\n",
       "      <td>ft3/s</td>\n",
       "      <td>0.72</td>\n",
       "      <td>['A']</td>\n",
       "      <td>0</td>\n",
       "    </tr>\n",
       "    <tr>\n",
       "      <th>1</th>\n",
       "      <td>2019-09-30 23:05:00</td>\n",
       "      <td>streamflow</td>\n",
       "      <td>02146470</td>\n",
       "      <td>ft3/s</td>\n",
       "      <td>0.79</td>\n",
       "      <td>['A']</td>\n",
       "      <td>0</td>\n",
       "    </tr>\n",
       "    <tr>\n",
       "      <th>2</th>\n",
       "      <td>2019-09-30 23:10:00</td>\n",
       "      <td>streamflow</td>\n",
       "      <td>02146470</td>\n",
       "      <td>ft3/s</td>\n",
       "      <td>0.79</td>\n",
       "      <td>['A']</td>\n",
       "      <td>0</td>\n",
       "    </tr>\n",
       "    <tr>\n",
       "      <th>3</th>\n",
       "      <td>2019-09-30 23:15:00</td>\n",
       "      <td>streamflow</td>\n",
       "      <td>02146470</td>\n",
       "      <td>ft3/s</td>\n",
       "      <td>0.72</td>\n",
       "      <td>['A']</td>\n",
       "      <td>0</td>\n",
       "    </tr>\n",
       "    <tr>\n",
       "      <th>4</th>\n",
       "      <td>2019-09-30 23:20:00</td>\n",
       "      <td>streamflow</td>\n",
       "      <td>02146470</td>\n",
       "      <td>ft3/s</td>\n",
       "      <td>0.72</td>\n",
       "      <td>['A']</td>\n",
       "      <td>0</td>\n",
       "    </tr>\n",
       "  </tbody>\n",
       "</table>\n",
       "</div>"
      ],
      "text/plain": [
       "           value_date variable_name usgs_site_code measurement_unit  value  \\\n",
       "0 2019-09-30 23:00:00    streamflow       02146470            ft3/s   0.72   \n",
       "1 2019-09-30 23:05:00    streamflow       02146470            ft3/s   0.79   \n",
       "2 2019-09-30 23:10:00    streamflow       02146470            ft3/s   0.79   \n",
       "3 2019-09-30 23:15:00    streamflow       02146470            ft3/s   0.72   \n",
       "4 2019-09-30 23:20:00    streamflow       02146470            ft3/s   0.72   \n",
       "\n",
       "  qualifiers series  \n",
       "0      ['A']      0  \n",
       "1      ['A']      0  \n",
       "2      ['A']      0  \n",
       "3      ['A']      0  \n",
       "4      ['A']      0  "
      ]
     },
     "execution_count": 2,
     "metadata": {},
     "output_type": "execute_result"
    }
   ],
   "source": [
    "# Retrieve streamflow observations for Little Hope Creek\n",
    "observations = IVDataService().get(\n",
    "    sites='02146470', \n",
    "    startDT='2019-10-01', \n",
    "    endDT='2020-09-30'\n",
    "    )\n",
    "\n",
    "# Look at raw data\n",
    "observations.head()"
   ]
  },
  {
   "cell_type": "markdown",
   "id": "2ebe8ed0",
   "metadata": {},
   "source": [
    "## 3. Preprocess streamflow measurements\n",
    "Let's reduce the size of the data and make sure the data is consistent. This means dropping extra columns, checking for duplicate data, filling missing data, resampling the data to a consistent frequency, and indexing the data by datetime."
   ]
  },
  {
   "cell_type": "code",
   "execution_count": 3,
   "id": "3a8ab638",
   "metadata": {},
   "outputs": [
    {
     "data": {
      "text/html": [
       "<div>\n",
       "<style scoped>\n",
       "    .dataframe tbody tr th:only-of-type {\n",
       "        vertical-align: middle;\n",
       "    }\n",
       "\n",
       "    .dataframe tbody tr th {\n",
       "        vertical-align: top;\n",
       "    }\n",
       "\n",
       "    .dataframe thead th {\n",
       "        text-align: right;\n",
       "    }\n",
       "</style>\n",
       "<table border=\"1\" class=\"dataframe\">\n",
       "  <thead>\n",
       "    <tr style=\"text-align: right;\">\n",
       "      <th></th>\n",
       "      <th>value</th>\n",
       "    </tr>\n",
       "    <tr>\n",
       "      <th>value_date</th>\n",
       "      <th></th>\n",
       "    </tr>\n",
       "  </thead>\n",
       "  <tbody>\n",
       "    <tr>\n",
       "      <th>2019-09-30 23:00:00</th>\n",
       "      <td>0.72</td>\n",
       "    </tr>\n",
       "    <tr>\n",
       "      <th>2019-10-01 00:00:00</th>\n",
       "      <td>0.72</td>\n",
       "    </tr>\n",
       "    <tr>\n",
       "      <th>2019-10-01 01:00:00</th>\n",
       "      <td>0.72</td>\n",
       "    </tr>\n",
       "    <tr>\n",
       "      <th>2019-10-01 02:00:00</th>\n",
       "      <td>0.72</td>\n",
       "    </tr>\n",
       "    <tr>\n",
       "      <th>2019-10-01 03:00:00</th>\n",
       "      <td>0.79</td>\n",
       "    </tr>\n",
       "  </tbody>\n",
       "</table>\n",
       "</div>"
      ],
      "text/plain": [
       "                     value\n",
       "value_date                \n",
       "2019-09-30 23:00:00   0.72\n",
       "2019-10-01 00:00:00   0.72\n",
       "2019-10-01 01:00:00   0.72\n",
       "2019-10-01 02:00:00   0.72\n",
       "2019-10-01 03:00:00   0.79"
      ]
     },
     "execution_count": 3,
     "metadata": {},
     "output_type": "execute_result"
    }
   ],
   "source": [
    "# Drop extra columns to be more efficient\n",
    "observations = observations[['value_date', 'value']]\n",
    "\n",
    "# Check for duplicate time series, keep first by default\n",
    "observations = observations.drop_duplicates(subset=['value_date'])\n",
    "\n",
    "# Resample to hourly, keep first measurement in each 1-hour bin\n",
    "observations = observations.set_index('value_date')\n",
    "observations = observations.resample('H').first().ffill()\n",
    "\n",
    "# Look at preprocessed data\n",
    "observations.head()"
   ]
  },
  {
   "cell_type": "markdown",
   "id": "c706f672",
   "metadata": {},
   "source": [
    "## 4. Process streamflow record\n",
    "Run event detection to generate a list of hydrological events with start and end times. This particular method of event detection is suitable for use on small streams dominated by rainfall-driven direct runoff events."
   ]
  },
  {
   "cell_type": "code",
   "execution_count": 4,
   "id": "a31cacb9",
   "metadata": {},
   "outputs": [
    {
     "data": {
      "text/html": [
       "<div>\n",
       "<style scoped>\n",
       "    .dataframe tbody tr th:only-of-type {\n",
       "        vertical-align: middle;\n",
       "    }\n",
       "\n",
       "    .dataframe tbody tr th {\n",
       "        vertical-align: top;\n",
       "    }\n",
       "\n",
       "    .dataframe thead th {\n",
       "        text-align: right;\n",
       "    }\n",
       "</style>\n",
       "<table border=\"1\" class=\"dataframe\">\n",
       "  <thead>\n",
       "    <tr style=\"text-align: right;\">\n",
       "      <th></th>\n",
       "      <th>start</th>\n",
       "      <th>end</th>\n",
       "    </tr>\n",
       "  </thead>\n",
       "  <tbody>\n",
       "    <tr>\n",
       "      <th>0</th>\n",
       "      <td>2019-10-13 02:00:00</td>\n",
       "      <td>2019-10-15 00:00:00</td>\n",
       "    </tr>\n",
       "    <tr>\n",
       "      <th>1</th>\n",
       "      <td>2019-10-15 12:00:00</td>\n",
       "      <td>2019-10-17 21:00:00</td>\n",
       "    </tr>\n",
       "    <tr>\n",
       "      <th>2</th>\n",
       "      <td>2019-10-18 09:00:00</td>\n",
       "      <td>2019-10-23 13:00:00</td>\n",
       "    </tr>\n",
       "    <tr>\n",
       "      <th>3</th>\n",
       "      <td>2019-10-26 09:00:00</td>\n",
       "      <td>2019-10-28 10:00:00</td>\n",
       "    </tr>\n",
       "    <tr>\n",
       "      <th>4</th>\n",
       "      <td>2019-10-29 17:00:00</td>\n",
       "      <td>2019-11-02 17:00:00</td>\n",
       "    </tr>\n",
       "  </tbody>\n",
       "</table>\n",
       "</div>"
      ],
      "text/plain": [
       "                start                 end\n",
       "0 2019-10-13 02:00:00 2019-10-15 00:00:00\n",
       "1 2019-10-15 12:00:00 2019-10-17 21:00:00\n",
       "2 2019-10-18 09:00:00 2019-10-23 13:00:00\n",
       "3 2019-10-26 09:00:00 2019-10-28 10:00:00\n",
       "4 2019-10-29 17:00:00 2019-11-02 17:00:00"
      ]
     },
     "execution_count": 4,
     "metadata": {},
     "output_type": "execute_result"
    }
   ],
   "source": [
    "# Detect events\n",
    "events = ev.list_events(\n",
    "    observations['value'],\n",
    "    halflife='6H', \n",
    "    window='7D',\n",
    "    minimum_event_duration='6H',\n",
    "    start_radius='6H'\n",
    ")\n",
    "\n",
    "# Look at events\n",
    "events.head()"
   ]
  },
  {
   "cell_type": "markdown",
   "id": "0a50fb85",
   "metadata": {},
   "source": [
    "## 5. Analyze events\n",
    "Here we compare the `events` DataFrame to the original `observations` DataFrame and get the maximum for every period defined by `start` and `end` columns in `events."
   ]
  },
  {
   "cell_type": "code",
   "execution_count": 5,
   "id": "fe92ff44",
   "metadata": {},
   "outputs": [
    {
     "data": {
      "text/html": [
       "<div>\n",
       "<style scoped>\n",
       "    .dataframe tbody tr th:only-of-type {\n",
       "        vertical-align: middle;\n",
       "    }\n",
       "\n",
       "    .dataframe tbody tr th {\n",
       "        vertical-align: top;\n",
       "    }\n",
       "\n",
       "    .dataframe thead th {\n",
       "        text-align: right;\n",
       "    }\n",
       "</style>\n",
       "<table border=\"1\" class=\"dataframe\">\n",
       "  <thead>\n",
       "    <tr style=\"text-align: right;\">\n",
       "      <th></th>\n",
       "      <th>start</th>\n",
       "      <th>end</th>\n",
       "      <th>peak</th>\n",
       "    </tr>\n",
       "  </thead>\n",
       "  <tbody>\n",
       "    <tr>\n",
       "      <th>0</th>\n",
       "      <td>2019-10-13 02:00:00</td>\n",
       "      <td>2019-10-15 00:00:00</td>\n",
       "      <td>30.000000</td>\n",
       "    </tr>\n",
       "    <tr>\n",
       "      <th>1</th>\n",
       "      <td>2019-10-15 12:00:00</td>\n",
       "      <td>2019-10-17 21:00:00</td>\n",
       "      <td>63.900002</td>\n",
       "    </tr>\n",
       "    <tr>\n",
       "      <th>2</th>\n",
       "      <td>2019-10-18 09:00:00</td>\n",
       "      <td>2019-10-23 13:00:00</td>\n",
       "      <td>217.000000</td>\n",
       "    </tr>\n",
       "    <tr>\n",
       "      <th>3</th>\n",
       "      <td>2019-10-26 09:00:00</td>\n",
       "      <td>2019-10-28 10:00:00</td>\n",
       "      <td>19.100000</td>\n",
       "    </tr>\n",
       "    <tr>\n",
       "      <th>4</th>\n",
       "      <td>2019-10-29 17:00:00</td>\n",
       "      <td>2019-11-02 17:00:00</td>\n",
       "      <td>153.000000</td>\n",
       "    </tr>\n",
       "  </tbody>\n",
       "</table>\n",
       "</div>"
      ],
      "text/plain": [
       "                start                 end        peak\n",
       "0 2019-10-13 02:00:00 2019-10-15 00:00:00   30.000000\n",
       "1 2019-10-15 12:00:00 2019-10-17 21:00:00   63.900002\n",
       "2 2019-10-18 09:00:00 2019-10-23 13:00:00  217.000000\n",
       "3 2019-10-26 09:00:00 2019-10-28 10:00:00   19.100000\n",
       "4 2019-10-29 17:00:00 2019-11-02 17:00:00  153.000000"
      ]
     },
     "execution_count": 5,
     "metadata": {},
     "output_type": "execute_result"
    }
   ],
   "source": [
    "# Compute peak discharge for each event\n",
    "events['peak'] = events.apply(\n",
    "    lambda e: observations['value'].loc[e.start:e.end].max(), \n",
    "    axis=1\n",
    "    )\n",
    "\n",
    "# Peaks have been added to each event\n",
    "events.head()"
   ]
  },
  {
   "cell_type": "markdown",
   "id": "40b457fa",
   "metadata": {},
   "source": [
    "## 6. Visualize the results\n",
    "Below we plot a histogram of peak flows for all events and the entire streamflow hydrograph for Little Hope Creek with points that indicate all the start time events detected."
   ]
  },
  {
   "cell_type": "code",
   "execution_count": 6,
   "id": "e7eed41e",
   "metadata": {},
   "outputs": [
    {
     "data": {
      "image/png": "[encoded data removed]",
      "text/plain": [
       "<Figure size 432x288 with 1 Axes>"
      ]
     },
     "metadata": {
      "needs_background": "light"
     },
     "output_type": "display_data"
    }
   ],
   "source": [
    "# Plot a histogram of peak discharge values\n",
    "plt.hist(events['peak'], bins=20, density=True)\n",
    "plt.xlim(0.0,2000.0)\n",
    "plt.xlabel('Peak Discharge (cfs)')\n",
    "plt.ylabel('Relative Frequency')\n",
    "plt.title('Distribution of Peak Event Discharges for Little Hope Creek')\n",
    "plt.tight_layout()\n",
    "plt.show()"
   ]
  },
  {
   "cell_type": "code",
   "execution_count": 7,
   "id": "2a04bbf2",
   "metadata": {},
   "outputs": [
    {
     "data": {
      "image/png": "[encoded data removed]",
      "text/plain": [
       "<Figure size 432x288 with 1 Axes>"
      ]
     },
     "metadata": {
      "needs_background": "light"
     },
     "output_type": "display_data"
    }
   ],
   "source": [
    "# Plot the hydrograph\n",
    "observations.plot(logy=True, legend=False)\n",
    "observations.loc[events['start'], 'value'].plot(\n",
    "    ax=plt.gca(), style='o'\n",
    ")\n",
    "plt.xlabel('Datetime (UTC)')\n",
    "plt.ylabel('Discharge (cfs)')\n",
    "plt.legend(['Streamflow','Event Start'])\n",
    "plt.title('Streamflow Hydrograph for Little Hope Creek with Detected Events')\n",
    "plt.tight_layout()\n",
    "plt.show()"
   ]
  }
 ],
 "metadata": {
  "kernelspec": {
   "display_name": "Python 3",
   "language": "python",
   "name": "python3"
  },
  "language_info": {
   "codemirror_mode": {
    "name": "ipython",
    "version": 3
   },
   "file_extension": ".py",
   "mimetype": "text/x-python",
   "name": "python",
   "nbconvert_exporter": "python",
   "pygments_lexer": "ipython3",
   "version": "3.8.5"
  }
 },
 "nbformat": 4,
 "nbformat_minor": 5
}
